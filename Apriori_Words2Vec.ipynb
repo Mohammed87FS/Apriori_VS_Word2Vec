{
 "cells": [
  {
   "cell_type": "code",
   "execution_count": null,
   "metadata": {},
   "outputs": [],
   "source": [
    "import pandas as pd\n",
    "import os\n",
    "from mlxtend.preprocessing import TransactionEncoder\n",
    "from mlxtend.frequent_patterns import apriori, association_rules\n",
    "\n",
    "\n",
    "path = r'C:\\Users\\moham\\Apriori_VS_Word2Vec'\n",
    "excel_file = 'Assignment-1_Data.xlsx'\n",
    "excel_file_path = os.path.join(path, excel_file)\n",
    "\n",
    "\n",
    "\n",
    "def load_dataset(file_path):\n",
    "    return pd.read_excel(file_path)\n",
    "    \n",
    "\n",
    "data_excel = load_dataset(excel_file_path)\n",
    "data_excel.dropna(subset=['Itemname'], inplace=True) \n",
    "\n"
   ]
  },
  {
   "cell_type": "code",
   "execution_count": null,
   "metadata": {},
   "outputs": [],
   "source": [
    "\n",
    "\n",
    "basket = data_excel.groupby('BillNo')['Itemname'].apply(list)\n",
    "\n",
    "\n",
    "print(\"First few rows of the Excel dataset:\")\n",
    "print(data_excel.head())\n",
    "print(\"\\nDetailed information about the DataFrame:\")\n",
    "data_excel.info()\n"
   ]
  },
  {
   "cell_type": "code",
   "execution_count": null,
   "metadata": {},
   "outputs": [
    {
     "name": "stdout",
     "output_type": "stream",
     "text": [
      "[[False False False ... False False False]\n",
      " [False False False ... False False False]\n",
      " [False False False ... False False False]\n",
      " ...\n",
      " [False False False ... False False False]\n",
      " [False False False ... False False False]\n",
      " [False False False ... False False False]]\n",
      "BillNo\n",
      "536365    [WHITE HANGING HEART T-LIGHT HOLDER, WHITE MET...\n",
      "536366    [HAND WARMER UNION JACK, HAND WARMER RED POLKA...\n",
      "536367    [ASSORTED COLOUR BIRD ORNAMENT, POPPY'S PLAYHO...\n",
      "536368    [JAM MAKING SET WITH JARS, RED COAT RACK PARIS...\n",
      "536369                           [BATH BUILDING BLOCK WORD]\n",
      "Name: Itemname, dtype: object\n"
     ]
    }
   ],
   "source": [
    "\n",
    "te = TransactionEncoder()\n",
    "te_ary = te.fit(basket).transform(basket)\n",
    "print(te_ary)   \n",
    "basket_encoded = pd.DataFrame(te_ary, columns=te.columns_)\n",
    "print(basket.head())"
   ]
  },
  {
   "cell_type": "code",
   "execution_count": null,
   "metadata": {},
   "outputs": [],
   "source": [
    "\n",
    "frequent_itemsets = apriori(basket_encoded, min_support=0.01, use_colnames=True) # test support = 0.01\n",
    "rules = association_rules(frequent_itemsets, metric=\"confidence\", min_threshold=0.5)\n"
   ]
  },
  {
   "cell_type": "code",
   "execution_count": null,
   "metadata": {},
   "outputs": [],
   "source": [
    "\n",
    "print(rules[['antecedents', 'consequents', 'support', 'confidence']])\n",
    "rules.to_excel('Apriori_Rules.xlsx', index=False) \n"
   ]
  }
 ],
 "metadata": {
  "kernelspec": {
   "display_name": "base",
   "language": "python",
   "name": "python3"
  },
  "language_info": {
   "codemirror_mode": {
    "name": "ipython",
    "version": 3
   },
   "file_extension": ".py",
   "mimetype": "text/x-python",
   "name": "python",
   "nbconvert_exporter": "python",
   "pygments_lexer": "ipython3",
   "version": "3.12.4"
  }
 },
 "nbformat": 4,
 "nbformat_minor": 2
}
