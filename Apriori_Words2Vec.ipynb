{
 "cells": [
  {
   "cell_type": "code",
   "execution_count": 10,
   "metadata": {},
   "outputs": [
    {
     "name": "stdout",
     "output_type": "stream",
     "text": [
      "First few rows of the Excel dataset:\n",
      "   BillNo                             Itemname  Quantity                Date  \\\n",
      "0  536365   WHITE HANGING HEART T-LIGHT HOLDER         6 2010-12-01 08:26:00   \n",
      "1  536365                  WHITE METAL LANTERN         6 2010-12-01 08:26:00   \n",
      "2  536365       CREAM CUPID HEARTS COAT HANGER         8 2010-12-01 08:26:00   \n",
      "3  536365  KNITTED UNION FLAG HOT WATER BOTTLE         6 2010-12-01 08:26:00   \n",
      "4  536365       RED WOOLLY HOTTIE WHITE HEART.         6 2010-12-01 08:26:00   \n",
      "\n",
      "   Price  CustomerID         Country  \n",
      "0   2.55     17850.0  United Kingdom  \n",
      "1   3.39     17850.0  United Kingdom  \n",
      "2   2.75     17850.0  United Kingdom  \n",
      "3   3.39     17850.0  United Kingdom  \n",
      "4   3.39     17850.0  United Kingdom  \n",
      "Detailed information about the DataFrame:\n",
      "<class 'pandas.core.frame.DataFrame'>\n",
      "RangeIndex: 522064 entries, 0 to 522063\n",
      "Data columns (total 7 columns):\n",
      " #   Column      Non-Null Count   Dtype         \n",
      "---  ------      --------------   -----         \n",
      " 0   BillNo      522064 non-null  object        \n",
      " 1   Itemname    520609 non-null  object        \n",
      " 2   Quantity    522064 non-null  int64         \n",
      " 3   Date        522064 non-null  datetime64[ns]\n",
      " 4   Price       522064 non-null  float64       \n",
      " 5   CustomerID  388023 non-null  float64       \n",
      " 6   Country     522064 non-null  object        \n",
      "dtypes: datetime64[ns](1), float64(2), int64(1), object(3)\n",
      "memory usage: 27.9+ MB\n"
     ]
    }
   ],
   "source": [
    "import pandas as pd\n",
    "import os\n",
    "\n",
    "path = r'C:\\Users\\moham\\Apriori_VS_Word2Vec'\n",
    "\n",
    "\n",
    "def load_dataset(file_path):\n",
    "    return pd.read_excel(file_path)\n",
    "    \n",
    "     \n",
    "\n",
    "excel_file_path = os.path.join(path, 'Assignment-1_Data.xlsx')\n",
    "\n",
    "\n",
    "data_excel = load_dataset(excel_file_path)\n",
    "\n",
    "\n",
    "print(\"First few rows of the Excel dataset:\")\n",
    "print(data_excel.head())\n",
    "\n",
    "print(\"Detailed information about the DataFrame:\")\n",
    "data_excel.info()\n",
    "\n"
   ]
  }
 ],
 "metadata": {
  "kernelspec": {
   "display_name": "base",
   "language": "python",
   "name": "python3"
  },
  "language_info": {
   "codemirror_mode": {
    "name": "ipython",
    "version": 3
   },
   "file_extension": ".py",
   "mimetype": "text/x-python",
   "name": "python",
   "nbconvert_exporter": "python",
   "pygments_lexer": "ipython3",
   "version": "3.12.4"
  }
 },
 "nbformat": 4,
 "nbformat_minor": 2
}
