{
 "cells": [
  {
   "cell_type": "code",
   "execution_count": 3,
   "metadata": {},
   "outputs": [],
   "source": [
    "import pandas as pd\n",
    "import os\n",
    "from mlxtend.preprocessing import TransactionEncoder\n",
    "from mlxtend.frequent_patterns import apriori, association_rules\n",
    "\n",
    "\n",
    "path = r'C:\\Users\\moham\\Apriori_VS_Word2Vec'\n",
    "excel_file = 'Assignment-1_Data.xlsx'\n",
    "excel_file_path = os.path.join(path, excel_file)\n",
    "\n",
    "\n",
    "\n",
    "def load_dataset(file_path):\n",
    "    return pd.read_excel(file_path)\n",
    "    \n",
    "\n",
    "data_excel = load_dataset(excel_file_path)\n",
    "data_excel.dropna(subset=['Itemname'], inplace=True) "
   ]
  },
  {
   "cell_type": "code",
   "execution_count": 4,
   "metadata": {},
   "outputs": [],
   "source": [
    "\n",
    "transactions = data_excel.groupby('BillNo')['Itemname'].apply(list).values.tolist()"
   ]
  },
  {
   "cell_type": "code",
   "execution_count": 5,
   "metadata": {},
   "outputs": [],
   "source": [
    "from gensim.models import Word2Vec\n",
    "\n",
    "model = Word2Vec(sentences=transactions, vector_size=100, window=5, sg=1, min_count=2, workers=4)\n",
    "\n",
    "model.save(\"product2vec.model\")"
   ]
  },
  {
   "cell_type": "code",
   "execution_count": 6,
   "metadata": {},
   "outputs": [
    {
     "name": "stdout",
     "output_type": "stream",
     "text": [
      "CREAM SWEETHEART MINI CHEST: 0.6132745742797852\n",
      "PEARL CRYSTAL PUMPKIN T-LIGHT HLDR: 0.5941203236579895\n",
      "CREAM HANGING HEART T-LIGHT HOLDER: 0.5908356308937073\n",
      "SMALL ROUND CUT GLASS CANDLESTICK: 0.544390082359314\n",
      "LADIES & GENTLEMEN METAL SIGN: 0.5373557209968567\n",
      "HAND OVER THE CHOCOLATE   SIGN: 0.5368611216545105\n",
      "BEADED CRYSTAL HEART PINK LARGE: 0.5247476696968079\n",
      "WHITE JEWELLED HEART DECORATION: 0.5239669680595398\n",
      "FRENCH ENAMEL CANDLEHOLDER: 0.5163463354110718\n",
      "SMALL SQUARE CUT GLASS CANDLESTICK: 0.5112336874008179\n"
     ]
    }
   ],
   "source": [
    "complementary_products = model.wv.similar_by_word('WHITE HANGING HEART T-LIGHT HOLDER', topn=10)\n",
    "for product, similarity in complementary_products:\n",
    "    print(f\"{product}: {similarity}\")"
   ]
  }
 ],
 "metadata": {
  "kernelspec": {
   "display_name": "base",
   "language": "python",
   "name": "python3"
  },
  "language_info": {
   "codemirror_mode": {
    "name": "ipython",
    "version": 3
   },
   "file_extension": ".py",
   "mimetype": "text/x-python",
   "name": "python",
   "nbconvert_exporter": "python",
   "pygments_lexer": "ipython3",
   "version": "3.12.4"
  }
 },
 "nbformat": 4,
 "nbformat_minor": 2
}
