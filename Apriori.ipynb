{
 "cells": [
  {
   "cell_type": "code",
   "execution_count": 1,
   "metadata": {},
   "outputs": [],
   "source": [
    "import pandas as pd\n",
    "import os\n",
    "from mlxtend.preprocessing import TransactionEncoder\n",
    "from mlxtend.frequent_patterns import apriori, association_rules\n",
    "\n",
    "\n",
    "path = r'C:\\Users\\moham\\Apriori_VS_Word2Vec'\n",
    "excel_file = 'Assignment-1_Data.xlsx'\n",
    "excel_file_path = os.path.join(path, excel_file)\n",
    "\n",
    "\n",
    "\n",
    "def load_dataset(file_path):\n",
    "    return pd.read_excel(file_path)\n",
    "    \n",
    "\n",
    "data_excel = load_dataset(excel_file_path)\n",
    "data_excel.dropna(subset=['Itemname'], inplace=True) \n",
    "\n"
   ]
  },
  {
   "cell_type": "code",
   "execution_count": 2,
   "metadata": {},
   "outputs": [
    {
     "name": "stdout",
     "output_type": "stream",
     "text": [
      "First few rows of the Excel dataset:\n",
      "   BillNo                             Itemname  Quantity                Date  \\\n",
      "0  536365   WHITE HANGING HEART T-LIGHT HOLDER         6 2010-12-01 08:26:00   \n",
      "1  536365                  WHITE METAL LANTERN         6 2010-12-01 08:26:00   \n",
      "2  536365       CREAM CUPID HEARTS COAT HANGER         8 2010-12-01 08:26:00   \n",
      "3  536365  KNITTED UNION FLAG HOT WATER BOTTLE         6 2010-12-01 08:26:00   \n",
      "4  536365       RED WOOLLY HOTTIE WHITE HEART.         6 2010-12-01 08:26:00   \n",
      "\n",
      "   Price  CustomerID         Country  \n",
      "0   2.55     17850.0  United Kingdom  \n",
      "1   3.39     17850.0  United Kingdom  \n",
      "2   2.75     17850.0  United Kingdom  \n",
      "3   3.39     17850.0  United Kingdom  \n",
      "4   3.39     17850.0  United Kingdom  \n",
      "\n",
      "Detailed information about the DataFrame:\n",
      "<class 'pandas.core.frame.DataFrame'>\n",
      "Index: 520609 entries, 0 to 522063\n",
      "Data columns (total 7 columns):\n",
      " #   Column      Non-Null Count   Dtype         \n",
      "---  ------      --------------   -----         \n",
      " 0   BillNo      520609 non-null  object        \n",
      " 1   Itemname    520609 non-null  object        \n",
      " 2   Quantity    520609 non-null  int64         \n",
      " 3   Date        520609 non-null  datetime64[ns]\n",
      " 4   Price       520609 non-null  float64       \n",
      " 5   CustomerID  388023 non-null  float64       \n",
      " 6   Country     520609 non-null  object        \n",
      "dtypes: datetime64[ns](1), float64(2), int64(1), object(3)\n",
      "memory usage: 31.8+ MB\n"
     ]
    }
   ],
   "source": [
    "\n",
    "\n",
    "basket = data_excel.groupby('BillNo')['Itemname'].apply(list)\n",
    "\n",
    "\n",
    "print(\"First few rows of the Excel dataset:\")\n",
    "print(data_excel.head())\n",
    "print(\"\\nDetailed information about the DataFrame:\")\n",
    "data_excel.info()\n"
   ]
  },
  {
   "cell_type": "code",
   "execution_count": 3,
   "metadata": {},
   "outputs": [
    {
     "name": "stdout",
     "output_type": "stream",
     "text": [
      "[[False False False ... False False False]\n",
      " [False False False ... False False False]\n",
      " [False False False ... False False False]\n",
      " ...\n",
      " [False False False ... False False False]\n",
      " [False False False ... False False False]\n",
      " [False False False ... False False False]]\n",
      "BillNo\n",
      "536365    [WHITE HANGING HEART T-LIGHT HOLDER, WHITE MET...\n",
      "536366    [HAND WARMER UNION JACK, HAND WARMER RED POLKA...\n",
      "536367    [ASSORTED COLOUR BIRD ORNAMENT, POPPY'S PLAYHO...\n",
      "536368    [JAM MAKING SET WITH JARS, RED COAT RACK PARIS...\n",
      "536369                           [BATH BUILDING BLOCK WORD]\n",
      "Name: Itemname, dtype: object\n"
     ]
    }
   ],
   "source": [
    "\n",
    "te = TransactionEncoder()\n",
    "te_ary = te.fit(basket).transform(basket)\n",
    "print(te_ary)   \n",
    "basket_encoded = pd.DataFrame(te_ary, columns=te.columns_)\n",
    "print(basket.head())"
   ]
  },
  {
   "cell_type": "code",
   "execution_count": 4,
   "metadata": {},
   "outputs": [],
   "source": [
    "\n",
    "frequent_itemsets = apriori(basket_encoded, min_support=0.01, use_colnames=True) # test support = 0.01\n",
    "rules = association_rules(frequent_itemsets, metric=\"confidence\", min_threshold=0.5)\n"
   ]
  },
  {
   "cell_type": "code",
   "execution_count": 5,
   "metadata": {},
   "outputs": [
    {
     "name": "stdout",
     "output_type": "stream",
     "text": [
      "                                           antecedents  \\\n",
      "0                    (60 CAKE CASES DOLLY GIRL DESIGN)   \n",
      "1                        (60 TEATIME FAIRY CAKE CASES)   \n",
      "2                     (ALARM CLOCK BAKELIKE CHOCOLATE)   \n",
      "3                     (ALARM CLOCK BAKELIKE CHOCOLATE)   \n",
      "4                     (ALARM CLOCK BAKELIKE CHOCOLATE)   \n",
      "..                                                 ...   \n",
      "793  (WOODLAND CHARLOTTE BAG, RED RETROSPOT CHARLOT...   \n",
      "794  (STRAWBERRY CHARLOTTE BAG, RED RETROSPOT CHARL...   \n",
      "795  (STRAWBERRY CHARLOTTE BAG, CHARLOTTE BAG PINK ...   \n",
      "796  (WOODLAND CHARLOTTE BAG, CHARLOTTE BAG PINK PO...   \n",
      "797  (STRAWBERRY CHARLOTTE BAG, WOODLAND CHARLOTTE ...   \n",
      "\n",
      "                                           consequents   support  confidence  \n",
      "0                    (PACK OF 72 RETROSPOT CAKE CASES)  0.011580    0.561151  \n",
      "1                    (PACK OF 72 RETROSPOT CAKE CASES)  0.021526    0.545113  \n",
      "2                         (ALARM CLOCK BAKELIKE GREEN)  0.013559    0.657074  \n",
      "3                          (ALARM CLOCK BAKELIKE PINK)  0.010392    0.503597  \n",
      "4                           (ALARM CLOCK BAKELIKE RED)  0.014054    0.681055  \n",
      "..                                                 ...       ...         ...  \n",
      "793  (STRAWBERRY CHARLOTTE BAG, CHARLOTTE BAG SUKI ...  0.010046    0.626543  \n",
      "794  (CHARLOTTE BAG PINK POLKADOT, CHARLOTTE BAG SU...  0.010046    0.624615  \n",
      "795  (WOODLAND CHARLOTTE BAG, RED RETROSPOT CHARLOT...  0.010046    0.538462  \n",
      "796  (STRAWBERRY CHARLOTTE BAG, RED RETROSPOT CHARL...  0.010046    0.517857  \n",
      "797  (RED RETROSPOT CHARLOTTE BAG, CHARLOTTE BAG PI...  0.010046    0.502475  \n",
      "\n",
      "[798 rows x 4 columns]\n"
     ]
    }
   ],
   "source": [
    "\n",
    "print(rules[['antecedents', 'consequents', 'support', 'confidence']])\n",
    "rules.to_excel('Apriori_Rules.xlsx', index=False) \n"
   ]
  }
 ],
 "metadata": {
  "kernelspec": {
   "display_name": "base",
   "language": "python",
   "name": "python3"
  },
  "language_info": {
   "codemirror_mode": {
    "name": "ipython",
    "version": 3
   },
   "file_extension": ".py",
   "mimetype": "text/x-python",
   "name": "python",
   "nbconvert_exporter": "python",
   "pygments_lexer": "ipython3",
   "version": "3.12.4"
  }
 },
 "nbformat": 4,
 "nbformat_minor": 2
}
