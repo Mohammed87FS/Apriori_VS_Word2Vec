{
 "cells": [
  {
   "cell_type": "code",
   "execution_count": 1,
   "metadata": {},
   "outputs": [
    {
     "name": "stdout",
     "output_type": "stream",
     "text": [
      "First few rows of the CSV dataset:\n",
      "                                                   BillNo;Itemname;Quantity;Date;Price;CustomerID;Country\n",
      "536365;WHITE HANGING HEART T-LIGHT HOLDER;6;01....                            55;17850;United Kingdom    \n",
      "536365;WHITE METAL LANTERN;6;01.12.2010 08:26;3                               39;17850;United Kingdom    \n",
      "536365;CREAM CUPID HEARTS COAT HANGER;8;01.12.2...                            75;17850;United Kingdom    \n",
      "536365;KNITTED UNION FLAG HOT WATER BOTTLE;6;01...                            39;17850;United Kingdom    \n",
      "536365;RED WOOLLY HOTTIE WHITE HEART.;6;01.12.2...                            39;17850;United Kingdom    \n",
      "First few rows of the Excel dataset:\n",
      "   BillNo                             Itemname  Quantity                Date  \\\n",
      "0  536365   WHITE HANGING HEART T-LIGHT HOLDER         6 2010-12-01 08:26:00   \n",
      "1  536365                  WHITE METAL LANTERN         6 2010-12-01 08:26:00   \n",
      "2  536365       CREAM CUPID HEARTS COAT HANGER         8 2010-12-01 08:26:00   \n",
      "3  536365  KNITTED UNION FLAG HOT WATER BOTTLE         6 2010-12-01 08:26:00   \n",
      "4  536365       RED WOOLLY HOTTIE WHITE HEART.         6 2010-12-01 08:26:00   \n",
      "\n",
      "   Price  CustomerID         Country  \n",
      "0   2.55     17850.0  United Kingdom  \n",
      "1   3.39     17850.0  United Kingdom  \n",
      "2   2.75     17850.0  United Kingdom  \n",
      "3   3.39     17850.0  United Kingdom  \n",
      "4   3.39     17850.0  United Kingdom  \n"
     ]
    }
   ],
   "source": [
    "\n",
    "import pandas as pd\n",
    "import os\n",
    "\n",
    "path = r'C:\\Users\\moham\\Apriori_VS_Word2Vec'\n",
    "\n",
    "\n",
    "def load_dataset(fille_path):\n",
    "     if fille_path.endswith(\".csv\"):\n",
    "         return pd.read_csv(fille_path, on_bad_lines='skip')\n",
    "     elif fille_path.endswith(\".xlsx\"):\n",
    "         return pd.read_excel(fille_path)\n",
    "     else:\n",
    "         raise ValueError(\"Unsupported file format\")\n",
    "     \n",
    "     \n",
    "csv_file_path = os.path.join(path, 'Assignment-1_Data.csv')\n",
    "excel_file_path = os.path.join(path, 'Assignment-1_Data.xlsx')\n",
    "\n",
    "\n",
    "data_csv = load_dataset(csv_file_path)\n",
    "data_excel = load_dataset(excel_file_path)\n",
    "\n",
    "# Display the first few rows of each dataset\n",
    "print(\"First few rows of the CSV dataset:\")\n",
    "print(data_csv.head())\n",
    "\n",
    "print(\"First few rows of the Excel dataset:\")\n",
    "print(data_excel.head())"
   ]
  }
 ],
 "metadata": {
  "kernelspec": {
   "display_name": "base",
   "language": "python",
   "name": "python3"
  },
  "language_info": {
   "codemirror_mode": {
    "name": "ipython",
    "version": 3
   },
   "file_extension": ".py",
   "mimetype": "text/x-python",
   "name": "python",
   "nbconvert_exporter": "python",
   "pygments_lexer": "ipython3",
   "version": "3.12.4"
  }
 },
 "nbformat": 4,
 "nbformat_minor": 2
}
