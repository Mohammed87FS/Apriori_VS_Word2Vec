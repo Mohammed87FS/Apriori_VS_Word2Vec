{
 "cells": [
  {
   "cell_type": "markdown",
   "id": "972fda50",
   "metadata": {},
   "source": [
    "## **Epochs Testing**  "
   ]
  },
  {
   "cell_type": "code",
   "execution_count": null,
   "id": "b9657759",
   "metadata": {},
   "outputs": [],
   "source": []
  }
 ],
 "metadata": {
  "kernelspec": {
   "display_name": "new_env",
   "language": "python",
   "name": "python3"
  },
  "language_info": {
   "name": "python",
   "version": "3.10.16"
  }
 },
 "nbformat": 4,
 "nbformat_minor": 5
}
